{
 "cells": [
  {
   "cell_type": "markdown",
   "id": "b1c31409",
   "metadata": {},
   "source": [
    "## STRING"
   ]
  },
  {
   "cell_type": "code",
   "execution_count": 41,
   "id": "b9f75bf2",
   "metadata": {},
   "outputs": [
    {
     "name": "stdout",
     "output_type": "stream",
     "text": [
      " sushma\n",
      "Hello ,sushma!\n"
     ]
    }
   ],
   "source": [
    "1.#take name as input and say hello\n",
    "name = input(\" \")\n",
    "print(\"Hello ,\" + name +\"!\")"
   ]
  },
  {
   "cell_type": "code",
   "execution_count": 1,
   "id": "84f83df9",
   "metadata": {},
   "outputs": [
    {
     "name": "stdout",
     "output_type": "stream",
     "text": [
      "2\n"
     ]
    }
   ],
   "source": [
    "2.# from below string print count of \"is\".\n",
    "string = \"He is amol and she is chaitali\"\n",
    "count = string.count(\"is\")\n",
    "print(count)"
   ]
  },
  {
   "cell_type": "code",
   "execution_count": 2,
   "id": "f50615ff",
   "metadata": {},
   "outputs": [
    {
     "name": "stdout",
     "output_type": "stream",
     "text": [
      "['Data', 'is', 'new', 'oil']\n"
     ]
    }
   ],
   "source": [
    "3.# from below string split the word by space\n",
    "string = \"Data is new oil\"\n",
    "splitted_list = string .split(\" \")\n",
    "print(splitted_list)"
   ]
  },
  {
   "cell_type": "code",
   "execution_count": 4,
   "id": "c7c72ddb",
   "metadata": {},
   "outputs": [
    {
     "name": "stdout",
     "output_type": "stream",
     "text": [
      "Data=is=new=oil\n"
     ]
    }
   ],
   "source": [
    "4.# Now from below list , join all words by \"=\" and create a sentence.\n",
    "list_1 = (\"Data\", \"is\", \"new\", \"oil\")\n",
    "new_string = \"=\".join(list_1)\n",
    "print(new_string)"
   ]
  },
  {
   "cell_type": "code",
   "execution_count": 5,
   "id": "24d460c2",
   "metadata": {},
   "outputs": [
    {
     "name": "stdout",
     "output_type": "stream",
     "text": [
      "I love programming in python.\n"
     ]
    }
   ],
   "source": [
    "5.# from below string replace \"java\" with \"python\"\n",
    "sentence = \"I love programming in java.\"\n",
    "new_sent = sentence.replace(\"java\",\"python\")\n",
    "print(new_sent)"
   ]
  },
  {
   "cell_type": "code",
   "execution_count": 7,
   "id": "469878e0",
   "metadata": {},
   "outputs": [
    {
     "name": "stdout",
     "output_type": "stream",
     "text": [
      "This is message with space.\n"
     ]
    }
   ],
   "source": [
    "6.# from below string remove(string)additional space and print it\n",
    "message = \"  This is message with space.  \"\n",
    "new_msg = message.strip()\n",
    "print(new_msg)"
   ]
  },
  {
   "cell_type": "code",
   "execution_count": 9,
   "id": "f17da931",
   "metadata": {},
   "outputs": [
    {
     "name": "stdout",
     "output_type": "stream",
     "text": [
      "10\n"
     ]
    }
   ],
   "source": [
    "7.# from below string find position(start index)of \"sample\"\n",
    "sentence = \"This is a sample sentence.\"\n",
    "position = sentence.index(\"sample\")\n",
    "print(position)\n"
   ]
  },
  {
   "cell_type": "code",
   "execution_count": 11,
   "id": "9c092b78",
   "metadata": {},
   "outputs": [
    {
     "name": "stdout",
     "output_type": "stream",
     "text": [
      "14\n"
     ]
    }
   ],
   "source": [
    "8.# Given the string \"python is fun!\",how can you calculate and print its length?\n",
    "text = \"python is fun!\"\n",
    "print(len(text))"
   ]
  },
  {
   "cell_type": "code",
   "execution_count": 12,
   "id": "a03228ea",
   "metadata": {},
   "outputs": [
    {
     "name": "stdout",
     "output_type": "stream",
     "text": [
      "leppaenip\n"
     ]
    }
   ],
   "source": [
    "9.# print below string in reverse order\n",
    "string = \"pineappel\"\n",
    "print(string[::-1])"
   ]
  },
  {
   "cell_type": "code",
   "execution_count": 14,
   "id": "b18306db",
   "metadata": {
    "scrolled": true
   },
   "outputs": [
    {
     "name": "stdout",
     "output_type": "stream",
     "text": [
      "Welcom To Python Programming.\n"
     ]
    }
   ],
   "source": [
    "10.# Given the sring \"Welcom to python programming\",how can you capitalize the first lrtter of each word and print the modify string?\n",
    "text = \"Welcom to python programming.\"\n",
    "textmodified_text = text.title()\n",
    "print(modified_text)"
   ]
  },
  {
   "cell_type": "code",
   "execution_count": 15,
   "id": "08a9ec07",
   "metadata": {},
   "outputs": [
    {
     "name": "stdout",
     "output_type": "stream",
     "text": [
      "DATA IS NEW OIL\n"
     ]
    }
   ],
   "source": [
    "11.# Convert all letter of string to upper case\n",
    "text = \"Data is new oil\"\n",
    "print(text.upper())\n"
   ]
  },
  {
   "cell_type": "code",
   "execution_count": 16,
   "id": "e9344626",
   "metadata": {},
   "outputs": [
    {
     "name": "stdout",
     "output_type": "stream",
     "text": [
      "I Am Learning Python\n"
     ]
    }
   ],
   "source": [
    "12.# from below string just convert first letter of string to upper case\n",
    "text = \"i am learning python\"\n",
    "print(text.title())\n"
   ]
  },
  {
   "cell_type": "code",
   "execution_count": 17,
   "id": "d72f66d9",
   "metadata": {},
   "outputs": [
    {
     "name": "stdout",
     "output_type": "stream",
     "text": [
      "dAta IS nEw Oil\n"
     ]
    }
   ],
   "source": [
    "13.# convert all upper case to lower and lower case to upper\n",
    "text = \"DaTA is NeW oIL\"\n",
    "print(text.swapcase())\n"
   ]
  },
  {
   "cell_type": "code",
   "execution_count": 22,
   "id": "77e6ff59",
   "metadata": {},
   "outputs": [
    {
     "name": "stdout",
     "output_type": "stream",
     "text": [
      "50\n"
     ]
    }
   ],
   "source": [
    "14.# print the addition of below 2 number\n",
    "a = 20\n",
    "b = 30\n",
    "c = a + b\n",
    "print(c)"
   ]
  },
  {
   "cell_type": "code",
   "execution_count": 23,
   "id": "01647d76",
   "metadata": {},
   "outputs": [
    {
     "name": "stdout",
     "output_type": "stream",
     "text": [
      "2030\n"
     ]
    }
   ],
   "source": [
    "15.# print the addition of below 2 srings\n",
    "a = \"20\"\n",
    "b = \"30\"\n",
    "c = a + b\n",
    "print(c)"
   ]
  },
  {
   "cell_type": "markdown",
   "id": "b848f01e",
   "metadata": {},
   "source": [
    "## LIST"
   ]
  },
  {
   "cell_type": "code",
   "execution_count": 16,
   "id": "8ab99c50",
   "metadata": {},
   "outputs": [
    {
     "name": "stdout",
     "output_type": "stream",
     "text": [
      "[1, 2, 3, 44, 5]\n"
     ]
    }
   ],
   "source": [
    "## 16. From below list replace 4 with 44\n",
    "my_list = [1, 2, 3, 4, 5]\n",
    "my_list[3] = 44\n",
    "print(my_list)\n"
   ]
  },
  {
   "cell_type": "code",
   "execution_count": 28,
   "id": "cbf7dfd1",
   "metadata": {},
   "outputs": [
    {
     "name": "stdout",
     "output_type": "stream",
     "text": [
      "[1, 2, 3, 200, 4, 5]\n"
     ]
    }
   ],
   "source": [
    "## 17. In below list add(insert) 200 at index 3\n",
    "my_list = [1, 2, 3, 4, 5]\n",
    "my_list.insert(3,200)\n",
    "print(my_list)"
   ]
  },
  {
   "cell_type": "code",
   "execution_count": 18,
   "id": "6e3f8ad8",
   "metadata": {},
   "outputs": [
    {
     "name": "stdout",
     "output_type": "stream",
     "text": [
      "[1, 2, 3, 4, 5, 66]\n"
     ]
    }
   ],
   "source": [
    "## 18. In below list add new number 66\n",
    "my_list = [1, 2, 3, 4, 5]\n",
    "my_list.append(66)\n",
    "print(my_list)"
   ]
  },
  {
   "cell_type": "code",
   "execution_count": 32,
   "id": "ecb84125",
   "metadata": {},
   "outputs": [
    {
     "name": "stdout",
     "output_type": "stream",
     "text": [
      "[1, 2, 3, 4, 5, 66, 87, 99]\n"
     ]
    }
   ],
   "source": [
    "## 19 In below list insert new numbers 66,87,99\n",
    "my_list = [1, 2, 3, 4, 5]\n",
    "my_list.extend([66,87,99])\n",
    "print(my_list)\n"
   ]
  },
  {
   "cell_type": "code",
   "execution_count": 33,
   "id": "4c934217",
   "metadata": {},
   "outputs": [
    {
     "name": "stdout",
     "output_type": "stream",
     "text": [
      "[1, 2, 4, 5]\n"
     ]
    }
   ],
   "source": [
    "## 20. from below list remove number 3\n",
    "my_list = [1, 2, 3, 4, 5]\n",
    "my_list.pop(2)\n",
    "print(my_list)\n"
   ]
  },
  {
   "cell_type": "code",
   "execution_count": 38,
   "id": "dda1bc12",
   "metadata": {},
   "outputs": [
    {
     "name": "stdout",
     "output_type": "stream",
     "text": [
      "2\n"
     ]
    }
   ],
   "source": [
    "## 21. From below list print count of \"cherry\"\n",
    "my_list = [1, 2.5, \"cherry\", 3, \"banana\", 4.0, \"cherry\"]\n",
    "print(my_list.count(\"cherry\"))"
   ]
  },
  {
   "cell_type": "code",
   "execution_count": 39,
   "id": "2db5b542",
   "metadata": {},
   "outputs": [
    {
     "name": "stdout",
     "output_type": "stream",
     "text": [
      "4\n"
     ]
    }
   ],
   "source": [
    "## 22. From below list print index of \"banana\"\n",
    "my_list = [1, 2.5, \"apple\", 3, \"banana\", 4.0, \"cherry\"]\n",
    "print(my_list.index(\"banana\"))"
   ]
  },
  {
   "cell_type": "code",
   "execution_count": 40,
   "id": "842dc578",
   "metadata": {},
   "outputs": [
    {
     "name": "stdout",
     "output_type": "stream",
     "text": [
      "['Pune', 'Delhi', 'Mumbai', 'Indore', 'Jaipur']\n"
     ]
    }
   ],
   "source": [
    "## 23. From below list remove last item\n",
    "my_list = [\"Pune\",\"Delhi\",\"Mumbai\",\"Indore\",\"Jaipur\",\"Dehradun\"]\n",
    "my_list.pop()\n",
    "print(my_list)"
   ]
  },
  {
   "cell_type": "code",
   "execution_count": 41,
   "id": "a6c29f0b",
   "metadata": {},
   "outputs": [
    {
     "name": "stdout",
     "output_type": "stream",
     "text": [
      "['Apple', 'Banana', 'Cherry', 'Grapes', 'Mango']\n"
     ]
    }
   ],
   "source": [
    "## 24. Sort the below list in Alphabetical order\n",
    "my_list = [\"Grapes\",\"Apple\",\"Cherry\",\"Mango\",\"Banana\"]\n",
    "my_list.sort()\n",
    "print(my_list)"
   ]
  },
  {
   "cell_type": "code",
   "execution_count": 45,
   "id": "63487bbb",
   "metadata": {},
   "outputs": [
    {
     "name": "stdout",
     "output_type": "stream",
     "text": [
      "['Mango', 'Grapes', 'Cherry', 'Banana', 'Apple']\n"
     ]
    }
   ],
   "source": [
    "## 25. Sort below list in reverse Alphabetical order\n",
    "my_list = [\"Grapes\",\"Apple\",\"Cherry\",\"Mango\",\"Banana\"]\n",
    "my_list.sort(reverse=True)\n",
    "print(my_list)"
   ]
  },
  {
   "cell_type": "markdown",
   "id": "a015cff2",
   "metadata": {},
   "source": [
    "# Problem"
   ]
  },
  {
   "cell_type": "code",
   "execution_count": 1,
   "id": "5c05f83e",
   "metadata": {},
   "outputs": [],
   "source": [
    "## 26. Create a list named my list that has three elements\n",
    "#The integer 3 . the string 'element number two' . another list ['last' ,'element'] in that order\n",
    "mylist = [3, 'element number two',['last','element'] ]"
   ]
  },
  {
   "cell_type": "code",
   "execution_count": 2,
   "id": "6ec69920",
   "metadata": {},
   "outputs": [
    {
     "data": {
      "text/plain": [
       "3"
      ]
     },
     "execution_count": 2,
     "metadata": {},
     "output_type": "execute_result"
    }
   ],
   "source": [
    "# 27. print the thired element of the list\n",
    "l = [1,2,3,4,5,6,7,8,9]\n",
    "l[2]"
   ]
  },
  {
   "cell_type": "code",
   "execution_count": 3,
   "id": "325843be",
   "metadata": {},
   "outputs": [
    {
     "name": "stdout",
     "output_type": "stream",
     "text": [
      "['a', 'b', 16]\n"
     ]
    }
   ],
   "source": [
    "# 28. modify the last element of this list so that its value is 16. print the modified list so you know the operation was performed sucessfully\n",
    "listtomodify = ['a','b','sixteen']\n",
    "listtomodify[-1]=16\n",
    "print(listtomodify)"
   ]
  },
  {
   "cell_type": "code",
   "execution_count": 4,
   "id": "1228647a",
   "metadata": {},
   "outputs": [
    {
     "data": {
      "text/plain": [
       "8"
      ]
     },
     "execution_count": 4,
     "metadata": {},
     "output_type": "execute_result"
    }
   ],
   "source": [
    "# 29. calculate the length of following list\n",
    "listtofinflength = ['this','is','the','list','whose','length','i','want']\n",
    "len(listtofinflength)"
   ]
  },
  {
   "cell_type": "code",
   "execution_count": 5,
   "id": "16acc5a4",
   "metadata": {},
   "outputs": [
    {
     "data": {
      "text/plain": [
       "3622"
      ]
     },
     "execution_count": 5,
     "metadata": {},
     "output_type": "execute_result"
    }
   ],
   "source": [
    "# 30. calculate the sum of following list\n",
    "inlist = [54,678,2890]\n",
    "sum(inlist)"
   ]
  },
  {
   "cell_type": "code",
   "execution_count": 6,
   "id": "25a0fa3d",
   "metadata": {},
   "outputs": [
    {
     "data": {
      "text/plain": [
       "3622"
      ]
     },
     "execution_count": 6,
     "metadata": {},
     "output_type": "execute_result"
    }
   ],
   "source": [
    "# 31. calculate the sum of following list\n",
    "inlist = [54,678,2890]\n",
    "sum(inlist)"
   ]
  },
  {
   "cell_type": "code",
   "execution_count": 7,
   "id": "f2c3dcc0",
   "metadata": {},
   "outputs": [
    {
     "data": {
      "text/plain": [
       "53245"
      ]
     },
     "execution_count": 7,
     "metadata": {},
     "output_type": "execute_result"
    }
   ],
   "source": [
    "# 32. find the maximum value of the following list\n",
    "maxlist = [677,53245,234,236,23456,345,23526,3454]\n",
    "max(maxlist)"
   ]
  },
  {
   "cell_type": "code",
   "execution_count": 8,
   "id": "2e43a1b8",
   "metadata": {},
   "outputs": [
    {
     "data": {
      "text/plain": [
       "134"
      ]
     },
     "execution_count": 8,
     "metadata": {},
     "output_type": "execute_result"
    }
   ],
   "source": [
    "# 33. find the minimum value of the following list\n",
    "minlist = [351,984,1697,284,134,467,164]\n",
    "min(minlist)"
   ]
  },
  {
   "cell_type": "code",
   "execution_count": 9,
   "id": "931566f7",
   "metadata": {},
   "outputs": [
    {
     "name": "stdout",
     "output_type": "stream",
     "text": [
      "[1, 2, 3, 'append me!']\n"
     ]
    }
   ],
   "source": [
    "# 34. appent the string 'append me!' to the end of the following list.print the list to ensure the operation has been completed successfully.\n",
    "listtoappend = [1,2,3]\n",
    "listtoappend.append('append me!')\n",
    "print(listtoappend)"
   ]
  },
  {
   "cell_type": "markdown",
   "id": "b282beb1",
   "metadata": {},
   "source": [
    "# Assingment for loop "
   ]
  },
  {
   "cell_type": "code",
   "execution_count": null,
   "id": "cd93d46e",
   "metadata": {},
   "outputs": [],
   "source": [
    "## 35.Python program to print all the even numbers within the given range.\n",
    "n = int(input(\"Enter  the number: \"))\n",
    "for i in range(1,n):\n",
    "    if i%2==0:\n",
    "        print(i)\n"
   ]
  },
  {
   "cell_type": "code",
   "execution_count": null,
   "id": "017b73ba",
   "metadata": {},
   "outputs": [],
   "source": [
    "## 36.Python program to calculate the sum of all numbers from 1 to a given number.\n",
    "num = int(input(\"Enter the number: \"))\n",
    "sum=0\n",
    "for i in range(1,num+1):\n",
    "    sum +=i\n",
    "print(sum)\n"
   ]
  },
  {
   "cell_type": "code",
   "execution_count": null,
   "id": "619d70b1",
   "metadata": {},
   "outputs": [],
   "source": [
    "## 37. Python program to calculate the sum of all the odd numbers within the given range.\n",
    "num = int(input(\"Enter the number: \"))\n",
    "sum = 0\n",
    "for i in range(num):\n",
    "    if i%2!=0:\n",
    "        sum += i\n",
    "print(sum)\n"
   ]
  },
  {
   "cell_type": "code",
   "execution_count": null,
   "id": "abb55858",
   "metadata": {},
   "outputs": [],
   "source": [
    "## 38. Python program to print a multiplication table of a given number.\n",
    "num = int(input(\"Enter the number: \"))\n",
    "for i in range(1,11):\n",
    "    print(\"5 x {} =\".format(i),5*i)\n"
   ]
  },
  {
   "cell_type": "code",
   "execution_count": null,
   "id": "6fe5c567",
   "metadata": {},
   "outputs": [],
   "source": [
    "## 39. Python program to display numbers from a list using a for loop.\n",
    "list1 = [1,5,6,8,9,25]\n",
    "for i in list1:\n",
    "    print(i)\n"
   ]
  },
  {
   "cell_type": "code",
   "execution_count": null,
   "id": "eb6e8e4c",
   "metadata": {},
   "outputs": [],
   "source": [
    "## 40.Python program to count the total number of digits in a number.\n",
    "number = int(input(\"Enter the number: \"))\n",
    "count_number = str(number)\n",
    "count = 0\n",
    "for i in count_number:\n",
    "    count +=1\n",
    "    \n",
    "print(count)\n"
   ]
  },
  {
   "cell_type": "code",
   "execution_count": null,
   "id": "dc230de1",
   "metadata": {},
   "outputs": [],
   "source": [
    "## 41.Python program to check if the given string is a palindrome.\n",
    "string = str(input(\"Enter the string: \"))\n",
    "reverse_string = \"\"\n",
    "for i in string:\n",
    "    reverse_string =i+reverse_string\n",
    "if string==reverse_string:\n",
    "    print(\"The given string {} is palindrome\".format(string))\n",
    "else:\n",
    "    print(\"The given string {} is not palindrome\".format(string))"
   ]
  },
  {
   "cell_type": "code",
   "execution_count": null,
   "id": "4b0f052b",
   "metadata": {},
   "outputs": [],
   "source": [
    "## 42. Python program that accepts a word from the user and reverses it.\n",
    "string = str(input(\"Enter the string: \"))\n",
    "reverse_string = \"\"\n",
    "for i in string:\n",
    "    reverse_string =i+reverse_string\n",
    "print(reverse_string)\n"
   ]
  },
  {
   "cell_type": "code",
   "execution_count": null,
   "id": "b6a86615",
   "metadata": {},
   "outputs": [],
   "source": [
    "## 43.Python program to check if a given number is an Armstrong number.\n",
    "number = int(input(\"Enter the number: \"))\n",
    "number = str(number)\n",
    "sum =0\n",
    "for i in number:\n",
    "    sum += int(i)**len(number)\n",
    "if sum==int(number):\n",
    "    print(\"The given number {} is an Amstrong number\".format(number))\n",
    "else:\n",
    "    print(\"The given number {} is not an Amstrong number\".format(number))\n"
   ]
  },
  {
   "cell_type": "code",
   "execution_count": null,
   "id": "39661064",
   "metadata": {},
   "outputs": [],
   "source": [
    "## 44. Python program to count the number of even and odd numbers from a series of numbers.\n",
    "\n",
    "numbers = input(\"Enter a series of numbers separated by spaces: \")\n",
    "\n",
    "numbers_list = [int(num) for num in numbers.split()]\n",
    "\n",
    "even_count = 0\n",
    "odd_count = 0\n",
    "\n",
    "for num in numbers_list:\n",
    "    if num % 2 == 0:\n",
    "        even_count += 1\n",
    "    else:\n",
    "        odd_count += 1\n",
    "\n",
    "print(\"Number of even numbers:\", even_count)\n",
    "print(\"Number of odd numbers:\", odd_count)\n",
    "\n",
    "    \n"
   ]
  },
  {
   "cell_type": "code",
   "execution_count": null,
   "id": "9cd781c3",
   "metadata": {},
   "outputs": [],
   "source": [
    "## 45.Python program to display all numbers within a range except the prime numbers.\n",
    "def is_not_prime(n):\n",
    "    flag = False\n",
    "    for i in range(2, int((n**0.5)) + 1):\n",
    "        if n % i == 0:\n",
    "            flag = True\n",
    "    return flag\n",
    "\n",
    "range_starts = int(input(\"enter the start range:\"))\n",
    "\n",
    "range_ends = int(input(\"enter the end range: \"))\n",
    "print(\"Non-prime numbers between\",range_starts,\"and\", range_ends,\"are:\")\n",
    " \n",
    "for number in filter(is_not_prime, range(range_starts, range_ends)):\n",
    "    print(number)       \n"
   ]
  },
  {
   "cell_type": "code",
   "execution_count": null,
   "id": "8fcc7fe3",
   "metadata": {},
   "outputs": [],
   "source": [
    "## 46.Python program to get the Fibonacci series between 0 to 50.\n",
    "num = int(input(\"Enter the number: \"))\n",
    "a, b = 0, 1\n",
    "\n",
    "print(a, end=\" \")\n",
    "print(b, end=\" \")\n",
    "\n",
    "while a + b <= num:\n",
    "    c = a + b\n",
    "    print(c, end=\" \")\n",
    "    a, b = b, c\n"
   ]
  },
  {
   "cell_type": "code",
   "execution_count": null,
   "id": "2c994914",
   "metadata": {},
   "outputs": [],
   "source": [
    "## 47.Python program to find the factorial of a given number.\n",
    "num= int(input(\"Enter the number: \"))\n",
    "factorial = 1\n",
    "for i in range(1,num+1):\n",
    "    factorial = factorial*i\n",
    "    \n",
    "print(\"The factorial of {} is {}\".format(num,factorial))\n"
   ]
  },
  {
   "cell_type": "code",
   "execution_count": null,
   "id": "7e89b0a8",
   "metadata": {},
   "outputs": [],
   "source": [
    "## 48.Python program that accepts a string and calculates the number of digits and letters.\n",
    "user_input = input(\"Enter the string: \")\n",
    "digits = 0\n",
    "letters =0\n",
    "for i in user_input:\n",
    "    if i.isdigit():\n",
    "        digits = digits+1\n",
    "    elif i.isalpha():\n",
    "        letters = letters+1\n",
    "print(\"The string has {} letters and {} digits\".format(letters,digits))\n"
   ]
  },
  {
   "cell_type": "code",
   "execution_count": null,
   "id": "c3c8af5a",
   "metadata": {},
   "outputs": [],
   "source": []
  }
 ],
 "metadata": {
  "kernelspec": {
   "display_name": "Python 3 (ipykernel)",
   "language": "python",
   "name": "python3"
  },
  "language_info": {
   "codemirror_mode": {
    "name": "ipython",
    "version": 3
   },
   "file_extension": ".py",
   "mimetype": "text/x-python",
   "name": "python",
   "nbconvert_exporter": "python",
   "pygments_lexer": "ipython3",
   "version": "3.9.13"
  }
 },
 "nbformat": 4,
 "nbformat_minor": 5
}
