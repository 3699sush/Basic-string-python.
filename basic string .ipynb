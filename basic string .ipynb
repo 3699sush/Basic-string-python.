{
 "cells": [
  {
   "cell_type": "markdown",
   "id": "b1c31409",
   "metadata": {},
   "source": [
    "## STRING"
   ]
  },
  {
   "cell_type": "code",
   "execution_count": 1,
   "id": "b9f75bf2",
   "metadata": {
    "scrolled": true
   },
   "outputs": [
    {
     "name": "stdout",
     "output_type": "stream",
     "text": [
      " sushma\n",
      "Hello ,sushma!\n"
     ]
    }
   ],
   "source": [
    "1.#take name as input and say hello\n",
    "name = input(\" \")\n",
    "print(\"Hello ,\" + name +\"!\")"
   ]
  },
  {
   "cell_type": "code",
   "execution_count": 2,
   "id": "84f83df9",
   "metadata": {
    "scrolled": true
   },
   "outputs": [
    {
     "name": "stdout",
     "output_type": "stream",
     "text": [
      "2\n"
     ]
    }
   ],
   "source": [
    "2.# from below string print count of \"is\".\n",
    "string = \"He is amol and she is chaitali\"\n",
    "count = string.count(\"is\")\n",
    "print(count)"
   ]
  },
  {
   "cell_type": "code",
   "execution_count": 3,
   "id": "f50615ff",
   "metadata": {
    "scrolled": true
   },
   "outputs": [
    {
     "name": "stdout",
     "output_type": "stream",
     "text": [
      "['Data', 'is', 'new', 'oil']\n"
     ]
    }
   ],
   "source": [
    "3.# from below string split the word by space\n",
    "string = \"Data is new oil\"\n",
    "splitted_list = string .split(\" \")\n",
    "print(splitted_list)"
   ]
  },
  {
   "cell_type": "code",
   "execution_count": 4,
   "id": "c7c72ddb",
   "metadata": {
    "scrolled": true
   },
   "outputs": [
    {
     "name": "stdout",
     "output_type": "stream",
     "text": [
      "Data=is=new=oil\n"
     ]
    }
   ],
   "source": [
    "4.# Now from below list , join all words by \"=\" and create a sentence.\n",
    "list_1 = (\"Data\", \"is\", \"new\", \"oil\")\n",
    "new_string = \"=\".join(list_1)\n",
    "print(new_string)"
   ]
  },
  {
   "cell_type": "code",
   "execution_count": 5,
   "id": "24d460c2",
   "metadata": {
    "scrolled": true
   },
   "outputs": [
    {
     "name": "stdout",
     "output_type": "stream",
     "text": [
      "I love programming in python.\n"
     ]
    }
   ],
   "source": [
    "5.# from below string replace \"java\" with \"python\"\n",
    "sentence = \"I love programming in java.\"\n",
    "new_sent = sentence.replace(\"java\",\"python\")\n",
    "print(new_sent)"
   ]
  },
  {
   "cell_type": "code",
   "execution_count": 6,
   "id": "469878e0",
   "metadata": {
    "scrolled": true
   },
   "outputs": [
    {
     "name": "stdout",
     "output_type": "stream",
     "text": [
      "This is message with space.\n"
     ]
    }
   ],
   "source": [
    "6.# from below string remove(string)additional space and print it\n",
    "message = \"  This is message with space.  \"\n",
    "new_msg = message.strip()\n",
    "print(new_msg)"
   ]
  },
  {
   "cell_type": "code",
   "execution_count": 7,
   "id": "f17da931",
   "metadata": {
    "scrolled": true
   },
   "outputs": [
    {
     "name": "stdout",
     "output_type": "stream",
     "text": [
      "10\n"
     ]
    }
   ],
   "source": [
    "7.# from below string find position(start index)of \"sample\"\n",
    "sentence = \"This is a sample sentence.\"\n",
    "position = sentence.index(\"sample\")\n",
    "print(position)\n"
   ]
  },
  {
   "cell_type": "code",
   "execution_count": 8,
   "id": "9c092b78",
   "metadata": {
    "scrolled": true
   },
   "outputs": [
    {
     "name": "stdout",
     "output_type": "stream",
     "text": [
      "14\n"
     ]
    }
   ],
   "source": [
    "8.# Given the string \"python is fun!\",how can you calculate and print its length?\n",
    "text = \"python is fun!\"\n",
    "print(len(text))"
   ]
  },
  {
   "cell_type": "code",
   "execution_count": 9,
   "id": "a03228ea",
   "metadata": {
    "scrolled": true
   },
   "outputs": [
    {
     "name": "stdout",
     "output_type": "stream",
     "text": [
      "leppaenip\n"
     ]
    }
   ],
   "source": [
    "9.# print below string in reverse order\n",
    "string = \"pineappel\"\n",
    "print(string[::-1])"
   ]
  },
  {
   "cell_type": "code",
   "execution_count": 3,
   "id": "b18306db",
   "metadata": {
    "scrolled": true
   },
   "outputs": [
    {
     "name": "stdout",
     "output_type": "stream",
     "text": [
      "Welcom To Python Programming.\n"
     ]
    }
   ],
   "source": [
    "10.# Given the sring \"Welcom to python programming\",how can you capitalize the first lrtter of each word and print the modify string?\n",
    "text = \"Welcom to python programming.\"\n",
    "textmodified_text = text.title()\n",
    "print(textmodified_text)"
   ]
  },
  {
   "cell_type": "code",
   "execution_count": null,
   "id": "08a9ec07",
   "metadata": {
    "scrolled": true
   },
   "outputs": [],
   "source": [
    "11.# Convert all letter of string to upper case\n",
    "text = \"Data is new oil\"\n",
    "print(text.upper())\n"
   ]
  },
  {
   "cell_type": "code",
   "execution_count": 11,
   "id": "e9344626",
   "metadata": {
    "scrolled": true
   },
   "outputs": [
    {
     "name": "stdout",
     "output_type": "stream",
     "text": [
      "I Am Learning Python\n"
     ]
    }
   ],
   "source": [
    "12.# from below string just convert first letter of string to upper case\n",
    "text = \"i am learning python\"\n",
    "print(text.title())\n"
   ]
  },
  {
   "cell_type": "code",
   "execution_count": 12,
   "id": "d72f66d9",
   "metadata": {
    "scrolled": true
   },
   "outputs": [
    {
     "name": "stdout",
     "output_type": "stream",
     "text": [
      "dAta IS nEw Oil\n"
     ]
    }
   ],
   "source": [
    "13.# convert all upper case to lower and lower case to upper\n",
    "text = \"DaTA is NeW oIL\"\n",
    "print(text.swapcase())\n"
   ]
  },
  {
   "cell_type": "code",
   "execution_count": 13,
   "id": "77e6ff59",
   "metadata": {
    "scrolled": true
   },
   "outputs": [
    {
     "name": "stdout",
     "output_type": "stream",
     "text": [
      "50\n"
     ]
    }
   ],
   "source": [
    "14.# print the addition of below 2 number\n",
    "a = 20\n",
    "b = 30\n",
    "c = a + b\n",
    "print(c)"
   ]
  },
  {
   "cell_type": "code",
   "execution_count": 14,
   "id": "01647d76",
   "metadata": {
    "scrolled": true
   },
   "outputs": [
    {
     "name": "stdout",
     "output_type": "stream",
     "text": [
      "2030\n"
     ]
    }
   ],
   "source": [
    "15.# print the addition of below 2 srings\n",
    "a = \"20\"\n",
    "b = \"30\"\n",
    "c = a + b\n",
    "print(c)"
   ]
  },
  {
   "cell_type": "markdown",
   "id": "b848f01e",
   "metadata": {},
   "source": [
    "## LIST"
   ]
  },
  {
   "cell_type": "code",
   "execution_count": 15,
   "id": "8ab99c50",
   "metadata": {
    "scrolled": true
   },
   "outputs": [
    {
     "name": "stdout",
     "output_type": "stream",
     "text": [
      "[1, 2, 3, 44, 5]\n"
     ]
    }
   ],
   "source": [
    "## 16. From below list replace 4 with 44\n",
    "my_list = [1, 2, 3, 4, 5]\n",
    "my_list[3] = 44\n",
    "print(my_list)\n"
   ]
  },
  {
   "cell_type": "code",
   "execution_count": 16,
   "id": "cbf7dfd1",
   "metadata": {
    "scrolled": true
   },
   "outputs": [
    {
     "name": "stdout",
     "output_type": "stream",
     "text": [
      "[1, 2, 3, 200, 4, 5]\n"
     ]
    }
   ],
   "source": [
    "## 17. In below list add(insert) 200 at index 3\n",
    "my_list = [1, 2, 3, 4, 5]\n",
    "my_list.insert(3,200)\n",
    "print(my_list)"
   ]
  },
  {
   "cell_type": "code",
   "execution_count": 17,
   "id": "6e3f8ad8",
   "metadata": {
    "scrolled": true
   },
   "outputs": [
    {
     "name": "stdout",
     "output_type": "stream",
     "text": [
      "[1, 2, 3, 4, 5, 66]\n"
     ]
    }
   ],
   "source": [
    "## 18. In below list add new number 66\n",
    "my_list = [1, 2, 3, 4, 5]\n",
    "my_list.append(66)\n",
    "print(my_list)"
   ]
  },
  {
   "cell_type": "code",
   "execution_count": 18,
   "id": "ecb84125",
   "metadata": {
    "scrolled": true
   },
   "outputs": [
    {
     "name": "stdout",
     "output_type": "stream",
     "text": [
      "[1, 2, 3, 4, 5, 66, 87, 99]\n"
     ]
    }
   ],
   "source": [
    "## 19 In below list insert new numbers 66,87,99\n",
    "my_list = [1, 2, 3, 4, 5]\n",
    "my_list.extend([66,87,99])\n",
    "print(my_list)\n"
   ]
  },
  {
   "cell_type": "code",
   "execution_count": 19,
   "id": "4c934217",
   "metadata": {
    "scrolled": true
   },
   "outputs": [
    {
     "name": "stdout",
     "output_type": "stream",
     "text": [
      "[1, 2, 4, 5]\n"
     ]
    }
   ],
   "source": [
    "## 20. from below list remove number 3\n",
    "my_list = [1, 2, 3, 4, 5]\n",
    "my_list.pop(2)\n",
    "print(my_list)\n"
   ]
  },
  {
   "cell_type": "code",
   "execution_count": 20,
   "id": "dda1bc12",
   "metadata": {
    "scrolled": true
   },
   "outputs": [
    {
     "name": "stdout",
     "output_type": "stream",
     "text": [
      "2\n"
     ]
    }
   ],
   "source": [
    "## 21. From below list print count of \"cherry\"\n",
    "my_list = [1, 2.5, \"cherry\", 3, \"banana\", 4.0, \"cherry\"]\n",
    "print(my_list.count(\"cherry\"))"
   ]
  },
  {
   "cell_type": "code",
   "execution_count": 21,
   "id": "2db5b542",
   "metadata": {
    "scrolled": true
   },
   "outputs": [
    {
     "name": "stdout",
     "output_type": "stream",
     "text": [
      "4\n"
     ]
    }
   ],
   "source": [
    "## 22. From below list print index of \"banana\"\n",
    "my_list = [1, 2.5, \"apple\", 3, \"banana\", 4.0, \"cherry\"]\n",
    "print(my_list.index(\"banana\"))"
   ]
  },
  {
   "cell_type": "code",
   "execution_count": 22,
   "id": "842dc578",
   "metadata": {
    "scrolled": true
   },
   "outputs": [
    {
     "name": "stdout",
     "output_type": "stream",
     "text": [
      "['Pune', 'Delhi', 'Mumbai', 'Indore', 'Jaipur']\n"
     ]
    }
   ],
   "source": [
    "## 23. From below list remove last item\n",
    "my_list = [\"Pune\",\"Delhi\",\"Mumbai\",\"Indore\",\"Jaipur\",\"Dehradun\"]\n",
    "my_list.pop()\n",
    "print(my_list)"
   ]
  },
  {
   "cell_type": "code",
   "execution_count": 23,
   "id": "a6c29f0b",
   "metadata": {
    "scrolled": true
   },
   "outputs": [
    {
     "name": "stdout",
     "output_type": "stream",
     "text": [
      "['Apple', 'Banana', 'Cherry', 'Grapes', 'Mango']\n"
     ]
    }
   ],
   "source": [
    "## 24. Sort the below list in Alphabetical order\n",
    "my_list = [\"Grapes\",\"Apple\",\"Cherry\",\"Mango\",\"Banana\"]\n",
    "my_list.sort()\n",
    "print(my_list)"
   ]
  },
  {
   "cell_type": "code",
   "execution_count": 24,
   "id": "63487bbb",
   "metadata": {
    "scrolled": true
   },
   "outputs": [
    {
     "name": "stdout",
     "output_type": "stream",
     "text": [
      "['Mango', 'Grapes', 'Cherry', 'Banana', 'Apple']\n"
     ]
    }
   ],
   "source": [
    "## 25. Sort below list in reverse Alphabetical order\n",
    "my_list = [\"Grapes\",\"Apple\",\"Cherry\",\"Mango\",\"Banana\"]\n",
    "my_list.sort(reverse=True)\n",
    "print(my_list)"
   ]
  },
  {
   "cell_type": "markdown",
   "id": "a015cff2",
   "metadata": {},
   "source": [
    "# Problem"
   ]
  },
  {
   "cell_type": "code",
   "execution_count": 25,
   "id": "5c05f83e",
   "metadata": {
    "scrolled": true
   },
   "outputs": [],
   "source": [
    "## 26. Create a list named my list that has three elements\n",
    "#The integer 3 . the string 'element number two' . another list ['last' ,'element'] in that order\n",
    "mylist = [3, 'element number two',['last','element'] ]"
   ]
  },
  {
   "cell_type": "code",
   "execution_count": 26,
   "id": "6ec69920",
   "metadata": {
    "scrolled": true
   },
   "outputs": [
    {
     "data": {
      "text/plain": [
       "3"
      ]
     },
     "execution_count": 26,
     "metadata": {},
     "output_type": "execute_result"
    }
   ],
   "source": [
    "# 27. print the thired element of the list\n",
    "l = [1,2,3,4,5,6,7,8,9]\n",
    "l[2]"
   ]
  },
  {
   "cell_type": "code",
   "execution_count": 27,
   "id": "325843be",
   "metadata": {
    "scrolled": true
   },
   "outputs": [
    {
     "name": "stdout",
     "output_type": "stream",
     "text": [
      "['a', 'b', 16]\n"
     ]
    }
   ],
   "source": [
    "# 28. modify the last element of this list so that its value is 16. print the modified list so you know the operation was performed sucessfully\n",
    "listtomodify = ['a','b','sixteen']\n",
    "listtomodify[-1]=16\n",
    "print(listtomodify)"
   ]
  },
  {
   "cell_type": "code",
   "execution_count": 28,
   "id": "1228647a",
   "metadata": {
    "scrolled": true
   },
   "outputs": [
    {
     "data": {
      "text/plain": [
       "8"
      ]
     },
     "execution_count": 28,
     "metadata": {},
     "output_type": "execute_result"
    }
   ],
   "source": [
    "# 29. calculate the length of following list\n",
    "listtofinflength = ['this','is','the','list','whose','length','i','want']\n",
    "len(listtofinflength)"
   ]
  },
  {
   "cell_type": "code",
   "execution_count": 29,
   "id": "dab37767",
   "metadata": {
    "scrolled": true
   },
   "outputs": [
    {
     "data": {
      "text/plain": [
       "3622"
      ]
     },
     "execution_count": 29,
     "metadata": {},
     "output_type": "execute_result"
    }
   ],
   "source": [
    "# 30. calculate the sum of following list\n",
    "inlist = [54,678,2890]\n",
    "sum(inlist)"
   ]
  },
  {
   "cell_type": "code",
   "execution_count": 30,
   "id": "5e76cd72",
   "metadata": {
    "scrolled": true
   },
   "outputs": [
    {
     "data": {
      "text/plain": [
       "3622"
      ]
     },
     "execution_count": 30,
     "metadata": {},
     "output_type": "execute_result"
    }
   ],
   "source": [
    "# 31. calculate the sum of following list\n",
    "inlist = [54,678,2890]\n",
    "sum(inlist)"
   ]
  },
  {
   "cell_type": "code",
   "execution_count": 31,
   "id": "be1215be",
   "metadata": {
    "scrolled": true
   },
   "outputs": [
    {
     "data": {
      "text/plain": [
       "53245"
      ]
     },
     "execution_count": 31,
     "metadata": {},
     "output_type": "execute_result"
    }
   ],
   "source": [
    "# 32. find the maximum value of the following list\n",
    "maxlist = [677,53245,234,236,23456,345,23526,3454]\n",
    "max(maxlist)"
   ]
  },
  {
   "cell_type": "code",
   "execution_count": 32,
   "id": "3d3d8eda",
   "metadata": {
    "scrolled": true
   },
   "outputs": [
    {
     "data": {
      "text/plain": [
       "134"
      ]
     },
     "execution_count": 32,
     "metadata": {},
     "output_type": "execute_result"
    }
   ],
   "source": [
    "# 33. find the minimum value of the following list\n",
    "minlist = [351,984,1697,284,134,467,164]\n",
    "min(minlist)"
   ]
  },
  {
   "cell_type": "code",
   "execution_count": 33,
   "id": "9065deac",
   "metadata": {
    "scrolled": true
   },
   "outputs": [
    {
     "name": "stdout",
     "output_type": "stream",
     "text": [
      "[1, 2, 3, 'append me!']\n"
     ]
    }
   ],
   "source": [
    "# 34. appent the string 'append me!' to the end of the following list.print the list to ensure the operation has been completed successfully.\n",
    "listtoappend = [1,2,3]\n",
    "listtoappend.append('append me!')\n",
    "print(listtoappend)"
   ]
  },
  {
   "cell_type": "markdown",
   "id": "a6fe07b3",
   "metadata": {},
   "source": [
    "# Assingment for loop "
   ]
  },
  {
   "cell_type": "code",
   "execution_count": null,
   "id": "621464f2",
   "metadata": {},
   "outputs": [],
   "source": [
    "## 35. Print the first 10 natural numbers using for loop.\n",
    "n= int(input(\"Enter the Number: \"))\n",
    "for i in range(1,n+1):\n",
    "    print(i)\n"
   ]
  },
  {
   "cell_type": "code",
   "execution_count": null,
   "id": "5d5ba001",
   "metadata": {},
   "outputs": [],
   "source": [
    "## 36.Python program to print all the even numbers within the given range.\n",
    "n = int(input(\"Enter  the number: \"))\n",
    "for i in range(1,n):\n",
    "    if i%2==0:\n",
    "        print(i)\n"
   ]
  },
  {
   "cell_type": "code",
   "execution_count": null,
   "id": "7267daa8",
   "metadata": {},
   "outputs": [],
   "source": [
    "## 37.Python program to calculate the sum of all numbers from 1 to a given number.\n",
    "num = int(input(\"Enter the number: \"))\n",
    "sum=0\n",
    "for i in range(1,num+1):\n",
    "    sum +=i\n",
    "print(sum)\n"
   ]
  },
  {
   "cell_type": "code",
   "execution_count": null,
   "id": "aa1a9630",
   "metadata": {},
   "outputs": [],
   "source": [
    "## 38. Python program to calculate the sum of all the odd numbers within the given range.\n",
    "num = int(input(\"Enter the number: \"))\n",
    "sum = 0\n",
    "for i in range(num):\n",
    "    if i%2!=0:\n",
    "        sum += i\n",
    "print(sum)\n"
   ]
  },
  {
   "cell_type": "code",
   "execution_count": null,
   "id": "25f6b63f",
   "metadata": {},
   "outputs": [],
   "source": [
    "## 39. Python program to print a multiplication table of a given number.\n",
    "num = int(input(\"Enter the number: \"))\n",
    "for i in range(1,11):\n",
    "    print(\"5 x {} =\".format(i),5*i)\n"
   ]
  },
  {
   "cell_type": "code",
   "execution_count": null,
   "id": "6d931dcf",
   "metadata": {},
   "outputs": [],
   "source": [
    "## 40. Python program to display numbers from a list using a for loop.\n",
    "list1 = [1,5,6,8,9,25]\n",
    "for i in list1:\n",
    "    print(i)\n"
   ]
  },
  {
   "cell_type": "code",
   "execution_count": null,
   "id": "770068b8",
   "metadata": {},
   "outputs": [],
   "source": [
    "## 41.Python program to count the total number of digits in a number.\n",
    "number = int(input(\"Enter the number: \"))\n",
    "count_number = str(number)\n",
    "count = 0\n",
    "for i in count_number:\n",
    "    count +=1\n",
    "    \n",
    "print(count)\n"
   ]
  },
  {
   "cell_type": "code",
   "execution_count": null,
   "id": "c267fe2f",
   "metadata": {},
   "outputs": [],
   "source": [
    "## 42.Python program to check if the given string is a palindrome.\n",
    "string = str(input(\"Enter the string: \"))\n",
    "reverse_string = \"\"\n",
    "for i in string:\n",
    "    reverse_string =i+reverse_string\n",
    "if string==reverse_string:\n",
    "    print(\"The given string {} is palindrome\".format(string))\n",
    "else:\n",
    "    print(\"The given string {} is not palindrome\".format(string))\n"
   ]
  },
  {
   "cell_type": "code",
   "execution_count": null,
   "id": "769b8e99",
   "metadata": {},
   "outputs": [],
   "source": [
    "## 43. Python program that accepts a word from the user and reverses it.\n",
    "string = str(input(\"Enter the string: \"))\n",
    "reverse_string = \"\"\n",
    "for i in string:\n",
    "    reverse_string =i+reverse_string\n",
    "print(reverse_string)\n"
   ]
  },
  {
   "cell_type": "code",
   "execution_count": null,
   "id": "d5644620",
   "metadata": {},
   "outputs": [],
   "source": [
    "## 44.Python program to check if a given number is an Armstrong number.\n",
    "number = int(input(\"Enter the number: \"))\n",
    "number = str(number)\n",
    "sum =0\n",
    "for i in number:\n",
    "    sum += int(i)**len(number)\n",
    "if sum==int(number):\n",
    "    print(\"The given number {} is an Amstrong number\".format(number))\n",
    "else:\n",
    "    print(\"The given number {} is not an Amstrong number\".format(number))\n"
   ]
  },
  {
   "cell_type": "code",
   "execution_count": null,
   "id": "5531f01b",
   "metadata": {},
   "outputs": [],
   "source": [
    "## 45. Python program to count the number of even and odd numbers from a series of numbers.\n",
    "\n",
    "numbers = input(\"Enter a series of numbers separated by spaces: \")\n",
    "\n",
    "numbers_list = [int(num) for num in numbers.split()]\n",
    "\n",
    "even_count = 0\n",
    "odd_count = 0\n",
    "\n",
    "for num in numbers_list:\n",
    "    if num % 2 == 0:\n",
    "        even_count += 1\n",
    "    else:\n",
    "        odd_count += 1\n",
    "\n",
    "print(\"Number of even numbers:\", even_count)\n",
    "print(\"Number of odd numbers:\", odd_count)\n"
   ]
  },
  {
   "cell_type": "code",
   "execution_count": null,
   "id": "525624b0",
   "metadata": {},
   "outputs": [],
   "source": [
    "## 46.Python program to display all numbers within a range except the prime numbers.\n",
    "def is_not_prime(n):\n",
    "    flag = False\n",
    "    for i in range(2, int((n**0.5)) + 1):\n",
    "        if n % i == 0:\n",
    "            flag = True\n",
    "    return flag\n",
    "\n",
    "range_starts = int(input(\"enter the start range:\"))\n",
    "\n",
    "range_ends = int(input(\"enter the end range: \"))\n",
    "print(\"Non-prime numbers between\",range_starts,\"and\", range_ends,\"are:\")\n",
    " \n",
    "for number in filter(is_not_prime, range(range_starts, range_ends)):\n",
    "    print(number)       \n"
   ]
  },
  {
   "cell_type": "code",
   "execution_count": null,
   "id": "e220e1cc",
   "metadata": {},
   "outputs": [],
   "source": [
    "## 47.Python program to get the Fibonacci series between 0 to 50.\n",
    "num = int(input(\"Enter the number: \"))\n",
    "a, b = 0, 1\n",
    "\n",
    "print(a, end=\" \")\n",
    "print(b, end=\" \")\n",
    "\n",
    "while a + b <= num:\n",
    "    c = a + b\n",
    "    print(c, end=\" \")\n",
    "    a, b = b, c\n"
   ]
  },
  {
   "cell_type": "code",
   "execution_count": null,
   "id": "a3a477ec",
   "metadata": {},
   "outputs": [],
   "source": [
    "## 48.Python program to find the factorial of a given number.\n",
    "num= int(input(\"Enter the number: \"))\n",
    "factorial = 1\n",
    "for i in range(1,num+1):\n",
    "    factorial = factorial*i\n",
    "    \n",
    "print(\"The factorial of {} is {}\".format(num,factorial))\n"
   ]
  },
  {
   "cell_type": "code",
   "execution_count": null,
   "id": "e0349315",
   "metadata": {},
   "outputs": [],
   "source": [
    "## 49.Python program that accepts a string and calculates the number of digits and letters.\n",
    "user_input = input(\"Enter the string: \")\n",
    "digits = 0\n",
    "letters =0\n",
    "for i in user_input:\n",
    "    if i.isdigit():\n",
    "        digits = digits+1\n",
    "    elif i.isalpha():\n",
    "        letters = letters+1\n",
    "print(\"The string has {} letters and {} digits\".format(letters,digits))\n"
   ]
  },
  {
   "cell_type": "markdown",
   "id": "8cd7b626",
   "metadata": {},
   "source": [
    "# DICTIONARY"
   ]
  },
  {
   "cell_type": "code",
   "execution_count": null,
   "id": "8292d96e",
   "metadata": {},
   "outputs": [],
   "source": [
    "## 50. Given the following dictionary,print all keys.\n",
    "my_dict = {\"name\": \"Alice\", \"age\": 25, \"city\": \"New York\", \"occupation\": \"Engineer\"}\n",
    "for key in my_dict.keys():\n",
    "    print(key)"
   ]
  },
  {
   "cell_type": "code",
   "execution_count": null,
   "id": "9b574dac",
   "metadata": {},
   "outputs": [],
   "source": [
    "## 51. Print all values of dictionary \n",
    "my_dict = {\"name\": \"Alice\", \"age\": 25, \"city\": \"New York\", \"occupation\": \"Engineer\"}\n",
    "for value in my_dict.values():\n",
    "    print(value)"
   ]
  },
  {
   "cell_type": "code",
   "execution_count": null,
   "id": "f154898e",
   "metadata": {},
   "outputs": [],
   "source": [
    "## 52. Print all values except \"New York\"\n",
    "my_dict = {\"name\": \"Alice\", \"age\": 25, \"city\": \"New York\", \"occupation\": \"Engineer\"}\n",
    "for value in my_dict.values():\n",
    "    if value!= \"New York\":\n",
    "        print(value)"
   ]
  },
  {
   "cell_type": "code",
   "execution_count": null,
   "id": "70667c7a",
   "metadata": {},
   "outputs": [],
   "source": [
    "## 53. Delete key \"age\" from below dict\n",
    "my_dict = {\"name\": \"Alice\", \"age\": 25, \"city\": \"New York\", \"occupation\": \"Engineer\"}\n",
    "if \"age\" in my_dict:\n",
    "    del my_dict[\"age\"]\n",
    "print(my_dict)"
   ]
  },
  {
   "cell_type": "code",
   "execution_count": null,
   "id": "a94e77dd",
   "metadata": {},
   "outputs": [],
   "source": [
    "## 54. Print value of \"occupation\" from below dictionary.\n",
    "my_dict = {\"name\": \"Alice\", \"age\": 25, \"city\": \"New York\", \"occupation\": \"Engineer\"}\n",
    "print(my_dict[\"occupation\"])"
   ]
  },
  {
   "cell_type": "markdown",
   "id": "80ad289c",
   "metadata": {},
   "source": [
    "# Arge"
   ]
  },
  {
   "cell_type": "code",
   "execution_count": null,
   "id": "6f4a0575",
   "metadata": {},
   "outputs": [],
   "source": [
    "## 55. Write a python function for addition of 2 number\n",
    "def add_numbers(num1,num2):\n",
    "    sum = num1+num2\n",
    "    return sum\n",
    "result = add_numbers(5,15)\n",
    "print('sum: ',result)"
   ]
  },
  {
   "cell_type": "code",
   "execution_count": null,
   "id": "d9a58e79",
   "metadata": {},
   "outputs": [],
   "source": [
    "## 56. Write function to add all numbers of list and print\n",
    "def sum(*numbers):\n",
    "    total = 0\n",
    "    for x in numbers:\n",
    "        total += x\n",
    "    return total\n",
    "total = sum(8,2,3,0,7,5)\n",
    "print(total)"
   ]
  },
  {
   "cell_type": "code",
   "execution_count": null,
   "id": "39860baf",
   "metadata": {},
   "outputs": [],
   "source": [
    "## 57. Write a function to check if number is even or odd and print it.\n",
    "def even_odd(num):\n",
    "    if num%2==0:\n",
    "        print (\"{} is even number\".format(num))\n",
    "    else:\n",
    "        print (\"{} is odd number\".format(num))\n",
    "        \n",
    "    \n",
    "even_odd(23)"
   ]
  },
  {
   "cell_type": "code",
   "execution_count": null,
   "id": "fb778731",
   "metadata": {},
   "outputs": [],
   "source": [
    "## 58. Take any no of input in  function and print them.\n",
    "def print_args(*args):\n",
    "    for arg in args:\n",
    "        print(arg)\n",
    "        return 11\n",
    "a = print_args(1,2,3,\"hello\")\n",
    "print(a)"
   ]
  },
  {
   "cell_type": "code",
   "execution_count": null,
   "id": "cf6d81f3",
   "metadata": {},
   "outputs": [],
   "source": [
    "## 59. Write a python function which will take n number of inputs and print of all numbers\n",
    "def add_number(*numbers):\n",
    "  sum=0\n",
    "  for num in numbers:\n",
    "    sum = sum + num\n",
    "  return sum\n",
    "\n",
    "addition = add_number(1,2,3,)\n",
    "print(addition)\n"
   ]
  },
  {
   "cell_type": "code",
   "execution_count": null,
   "id": "6c1bdfeb",
   "metadata": {},
   "outputs": [],
   "source": [
    "## 60. Write python function which take will n number of string as inputs and will return list of upper case string\n",
    "def upper_string(*words):\n",
    "    upper_list=[]\n",
    "    for word in words:\n",
    "        upper_list.append(word.upper())\n",
    "    return upper_list\n",
    "upper_words = upper_string(\"ketsn\",\"sham\",\"amol\",\"chirag\",\"ram\",\"vivek\")\n",
    "print (upper_words)"
   ]
  },
  {
   "cell_type": "code",
   "execution_count": null,
   "id": "03b39b58",
   "metadata": {},
   "outputs": [],
   "source": [
    "## 61. Write a python function which takes multiple leyword arguments.\n",
    "def print_kwargs(**kwargs):\n",
    "    for key,value in kwargs.items():\n",
    "        print(\"{},{}\".format(key,value))\n",
    "print_kwargs(name=\"alice\", age=30, city=\"new york\")"
   ]
  },
  {
   "cell_type": "code",
   "execution_count": null,
   "id": "7f9264fa",
   "metadata": {},
   "outputs": [],
   "source": [
    "## 62. Write a python function which take keyword arguments and maximum value among all\n",
    "def find_mx(**kwargs):\n",
    "    return max(keargs.values())\n",
    "result = find_max(a=10,b=5,c=20)\n",
    "print(result)"
   ]
  },
  {
   "cell_type": "code",
   "execution_count": null,
   "id": "05aee69f",
   "metadata": {},
   "outputs": [],
   "source": []
  },
  {
   "cell_type": "code",
   "execution_count": null,
   "id": "11d023b3",
   "metadata": {},
   "outputs": [],
   "source": []
  },
  {
   "cell_type": "code",
   "execution_count": null,
   "id": "716a16d0",
   "metadata": {},
   "outputs": [],
   "source": []
  },
  {
   "cell_type": "code",
   "execution_count": null,
   "id": "662db095",
   "metadata": {},
   "outputs": [],
   "source": []
  }
 ],
 "metadata": {
  "kernelspec": {
   "display_name": "Python 3 (ipykernel)",
   "language": "python",
   "name": "python3"
  },
  "language_info": {
   "codemirror_mode": {
    "name": "ipython",
    "version": 3
   },
   "file_extension": ".py",
   "mimetype": "text/x-python",
   "name": "python",
   "nbconvert_exporter": "python",
   "pygments_lexer": "ipython3",
   "version": "3.9.13"
  }
 },
 "nbformat": 4,
 "nbformat_minor": 5
}
